{
 "cells": [
  {
   "cell_type": "code",
   "execution_count": 3,
   "metadata": {},
   "outputs": [
    {
     "name": "stdout",
     "output_type": "stream",
     "text": [
      "['elma', 'muz', 'çilek', 'portakal']\n",
      "['elma', 'muz', 'çilek', 'portakal', 'kiraz']\n",
      "['elma', 'muz', 'çilek', 'portakal', 'kiraz', 'mandalina']\n"
     ]
    }
   ],
   "source": [
    "meyveler = [\"elma\", \"muz\",\"çilek\",\"portakal\"]\n",
    "print(meyveler)\n",
    "meyveler.append(\"kiraz\")\n",
    "print(meyveler)\n",
    "x = input(\"meyve ekle\")\n",
    "meyveler.append(x)\n",
    "print(meyveler)"
   ]
  },
  {
   "cell_type": "code",
   "execution_count": 4,
   "metadata": {},
   "outputs": [
    {
     "name": "stdout",
     "output_type": "stream",
     "text": [
      "[10, 20, 30, 40, 50]\n",
      "[10, 20, 30, 40, 50, 77]\n"
     ]
    }
   ],
   "source": [
    "sayilar = [10,20,30,50]\n",
    "sayilar.insert(3,40)\n",
    "print(sayilar)\n",
    "a = int(input(\"sayı giriniz\"))\n",
    "b = int(input(\"index giriniz\"))\n",
    "sayilar.insert(b,a)\n",
    "print(sayilar)"
   ]
  },
  {
   "cell_type": "code",
   "execution_count": 9,
   "metadata": {},
   "outputs": [
    {
     "name": "stdout",
     "output_type": "stream",
     "text": [
      "['ali', 'mehmet', 'zeynep', 'ayşe']\n",
      "['mehmet', 'zeynep', 'ayşe']\n"
     ]
    }
   ],
   "source": [
    "isimler = [\"ali\",\"ayşe\",\"mehmet\",\"zeynep\",\"ayşe\"]\n",
    "isimler.remove(\"ayşe\")\n",
    "print(isimler)\n",
    "isim = input(\"silmek istediğiniz ismi giriniz\")\n",
    "isimler.remove(isim)\n",
    "print(isimler)"
   ]
  },
  {
   "cell_type": "code",
   "execution_count": 10,
   "metadata": {},
   "outputs": [
    {
     "name": "stdout",
     "output_type": "stream",
     "text": [
      "[5, 10, 15, 20]\n",
      "[5, 10, 20]\n"
     ]
    }
   ],
   "source": [
    "rakamlar = [5,10,15,20,25]\n",
    "rakamlar.pop()\n",
    "print(rakamlar)\n",
    "rakam = int(input(\"index gir\"))\n",
    "rakamlar.pop(rakam)\n",
    "print(rakamlar)"
   ]
  },
  {
   "cell_type": "code",
   "execution_count": 11,
   "metadata": {},
   "outputs": [
    {
     "name": "stdout",
     "output_type": "stream",
     "text": [
      "['e', 'd', 'c', 'b', 'a']\n"
     ]
    }
   ],
   "source": [
    "#5.1\n",
    "harfler = [\"a\",\"b\",\"c\",\"d\",\"e\"]\n",
    "ters = harfler[::-1]\n",
    "print(ters)"
   ]
  },
  {
   "cell_type": "code",
   "execution_count": null,
   "metadata": {},
   "outputs": [
    {
     "name": "stdout",
     "output_type": "stream",
     "text": [
      "['']\n",
      "['', 'a']\n",
      "['', 'a', 'n']\n",
      "['', 'a', 'n', 'r']\n"
     ]
    }
   ],
   "source": [
    "#5.2\n",
    "#ilk önce harfs adında boş bir liste oluşturdum\n",
    "#sonra başta ne kadar uzun bir liste istediğini sordum\n",
    "#sonra da döngüye alıp istediği indexe kadar teker teker doldurabilmesini sağladım\n",
    "#diğerlerine oranla bence daha ayrıntılı olduğu için sadece bunu açıklasam yeterli olur diye düşündüm\n",
    "harfs = []\n",
    "indx = int(input(\"listende kaç tane index olmasını istersin\"))\n",
    "for i in range(0,indx):\n",
    "    harf = input(\"Eklemek istediğin harfi yazınız\")\n",
    "    harfs.insert(i,harf)\n",
    "    print(harfs)"
   ]
  },
  {
   "cell_type": "code",
   "execution_count": 15,
   "metadata": {},
   "outputs": [
    {
     "name": "stdout",
     "output_type": "stream",
     "text": [
      "['kırmızı', 'mavi', 'yeşil', 'sarı']\n",
      "[]\n"
     ]
    }
   ],
   "source": [
    "renkler = [\"kırmızı\",\"mavi\",\"yeşil\",\"sarı\"]\n",
    "print(renkler)\n",
    "renkler.clear()\n",
    "print(renkler)"
   ]
  }
 ],
 "metadata": {
  "kernelspec": {
   "display_name": "Python 3",
   "language": "python",
   "name": "python3"
  },
  "language_info": {
   "codemirror_mode": {
    "name": "ipython",
    "version": 3
   },
   "file_extension": ".py",
   "mimetype": "text/x-python",
   "name": "python",
   "nbconvert_exporter": "python",
   "pygments_lexer": "ipython3",
   "version": "3.13.2"
  }
 },
 "nbformat": 4,
 "nbformat_minor": 2
}
