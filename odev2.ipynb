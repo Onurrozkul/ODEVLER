{
 "cells": [
  {
   "cell_type": "code",
   "execution_count": 2,
   "metadata": {},
   "outputs": [
    {
     "name": "stdout",
     "output_type": "stream",
     "text": [
      "13\n"
     ]
    }
   ],
   "source": [
    "a = int(input(\"sayı gir\"))\n",
    "b = int(input (\"ikinci sayıyı gir \"))\n",
    "print(a + b)"
   ]
  },
  {
   "cell_type": "code",
   "execution_count": 6,
   "metadata": {},
   "outputs": [
    {
     "name": "stdout",
     "output_type": "stream",
     "text": [
      "negatif\n"
     ]
    }
   ],
   "source": [
    "c = int(input(\"Sayı gir\"))\n",
    "if c > 0:\n",
    "    print(\"pozitif\")\n",
    "if c < 0:\n",
    "    print(\"negatif\")\n",
    "if c == 0:\n",
    "    print(\"sıfır\")"
   ]
  },
  {
   "cell_type": "code",
   "execution_count": 10,
   "metadata": {},
   "outputs": [
    {
     "name": "stdout",
     "output_type": "stream",
     "text": [
      "en büyük 3. sayı\n"
     ]
    }
   ],
   "source": [
    "sayi1 = int(input(\"Sayı gir\"))\n",
    "sayi2 = int(input(\"Sayı gir\"))\n",
    "sayi3 = int(input(\"Sayı gir\"))\n",
    "if sayi3 >= sayi1 and sayi3 >= sayi2:\n",
    "    print(\"en büyük 3. sayı\")\n",
    "elif sayi2 >= sayi1 and sayi2 >= sayi3:\n",
    "    print(\"en büyük 2. sayı\")\n",
    "else:\n",
    "    print(\"en büyük 1. sayı\")"
   ]
  },
  {
   "cell_type": "code",
   "execution_count": 11,
   "metadata": {},
   "outputs": [
    {
     "name": "stdout",
     "output_type": "stream",
     "text": [
      "Tek\n"
     ]
    }
   ],
   "source": [
    "sayi = int(input(\"Bir tam sayı girin: \"))\n",
    "if sayi % 2 == 0:\n",
    "    print(\"Çift\")\n",
    "else:\n",
    "    print(\"Tek\")"
   ]
  },
  {
   "cell_type": "code",
   "execution_count": 13,
   "metadata": {},
   "outputs": [
    {
     "name": "stdout",
     "output_type": "stream",
     "text": [
      "Cuma\n"
     ]
    }
   ],
   "source": [
    "gun = int(input(\"1-7 arasında bir sayı girin: \"))\n",
    "match gun:\n",
    "    case 1:\n",
    "        print(\"Pazartesi\")\n",
    "    case 2:\n",
    "        print(\"Salı\")\n",
    "    case 3:\n",
    "        print(\"Çarşamba\")\n",
    "    case 4:\n",
    "        print(\"Perşembe\")\n",
    "    case 5:\n",
    "        print(\"Cuma\")\n",
    "    case 6:\n",
    "        print(\"Cumartesi\")\n",
    "    case 7:\n",
    "        print(\"Pazar\")\n",
    "    case _:\n",
    "        print(\"Geçersiz gün\")\n"
   ]
  },
  {
   "cell_type": "code",
   "execution_count": 14,
   "metadata": {},
   "outputs": [
    {
     "name": "stdout",
     "output_type": "stream",
     "text": [
      "Sonuç: 0.875\n"
     ]
    }
   ],
   "source": [
    "sayi1 = int(input(\"Birinci sayıyı girin: \"))\n",
    "sayi2 = int(input(\"İkinci sayıyı girin: \"))\n",
    "islem = input(\"Bir işlem girin (+, -, *, /): \")\n",
    "\n",
    "match islem:\n",
    "    case \"+\":\n",
    "        print(f\"Sonuç: {sayi1 + sayi2}\")\n",
    "    case \"-\":\n",
    "        print(f\"Sonuç: {sayi1 - sayi2}\")\n",
    "    case \"*\":\n",
    "        print(f\"Sonuç: {sayi1 * sayi2}\")\n",
    "    case \"/\":\n",
    "        if sayi2 != 0:\n",
    "            print(f\"Sonuç: {sayi1 / sayi2}\")\n",
    "        else:\n",
    "            print(\"Hata: Sıfıra bölme hatası!\")\n",
    "    case _:\n",
    "        print(\"Geçersiz işlem\")"
   ]
  },
  {
   "cell_type": "code",
   "execution_count": 19,
   "metadata": {},
   "outputs": [
    {
     "name": "stdout",
     "output_type": "stream",
     "text": [
      "toplam:  15\n"
     ]
    }
   ],
   "source": [
    "a = int(input(\"Bir sayı gir\"))\n",
    "sum = 0\n",
    "for i in range(a + 1):\n",
    "    sum +=i\n",
    "print(\"toplam: \", sum)\n"
   ]
  },
  {
   "cell_type": "code",
   "execution_count": null,
   "metadata": {},
   "outputs": [
    {
     "name": "stdout",
     "output_type": "stream",
     "text": [
      "78 x 1 = 78\n",
      "78 x 2 = 156\n",
      "78 x 3 = 234\n",
      "78 x 4 = 312\n",
      "78 x 5 = 390\n",
      "78 x 6 = 468\n",
      "78 x 7 = 546\n",
      "78 x 8 = 624\n",
      "78 x 9 = 702\n",
      "78 x 10 = 780\n"
     ]
    }
   ],
   "source": [
    "\n",
    "sayi = int(input(\"Bir sayı girin: \"))\n",
    "\n",
    "for i in range(1, 11):\n",
    "    print(f\"{sayi} x {i} = {sayi * i}\")\n",
    "\n"
   ]
  },
  {
   "cell_type": "code",
   "execution_count": 28,
   "metadata": {},
   "outputs": [
    {
     "name": "stdout",
     "output_type": "stream",
     "text": [
      "ortalama:  30.0\n"
     ]
    }
   ],
   "source": [
    "sum = 0\n",
    "for i in range(5):\n",
    "    a = int(input(\"Sayı gir\"))\n",
    "    sum += a\n",
    "print(\"ortalama: \", sum/5 )\n",
    "\n"
   ]
  },
  {
   "cell_type": "code",
   "execution_count": 36,
   "metadata": {},
   "outputs": [
    {
     "name": "stdout",
     "output_type": "stream",
     "text": [
      "Asal değil\n"
     ]
    }
   ],
   "source": [
    "asal = int(input(\"Sayı gir: \"))\n",
    "\n",
    "if asal < 2:\n",
    "    print(\"Asal değil\")\n",
    "else:\n",
    "    for i in range(2, asal // 2 + 1):\n",
    "        if asal % i == 0:\n",
    "            print(\"Asal değil\")\n",
    "            break\n",
    "    else:\n",
    "        print(\"Asal\")"
   ]
  },
  {
   "cell_type": "code",
   "execution_count": null,
   "metadata": {},
   "outputs": [
    {
     "name": "stdout",
     "output_type": "stream",
     "text": [
      "carpim:  2432902008176640000\n"
     ]
    }
   ],
   "source": [
    "a = int(input(\"Bir sayı gir\"))\n",
    "carpim = 1\n",
    "for i in range(1, a + 1,):\n",
    "    carpim *=i\n",
    "print(\"faktoriyel: \", carpim)\n"
   ]
  },
  {
   "cell_type": "code",
   "execution_count": 40,
   "metadata": {},
   "outputs": [
    {
     "name": "stdout",
     "output_type": "stream",
     "text": [
      "987\n"
     ]
    }
   ],
   "source": [
    "s = input(\"Sayı giriniz\")\n",
    "print(s[::-1])"
   ]
  },
  {
   "cell_type": "code",
   "execution_count": null,
   "metadata": {},
   "outputs": [
    {
     "name": "stdout",
     "output_type": "stream",
     "text": [
      "3\n",
      "Sayı Armstrong sayıdır\n"
     ]
    }
   ],
   "source": [
    "sayi = int(input(\"Bir sayı gir\"))\n",
    "uzunluk = len(str(sayi))\n",
    "toplam = 0\n",
    "print (uzunluk)\n",
    "for i in range(1,len(str(sayi)) + 1) :\n",
    "    basamak = int(str(sayi)[i-1])\n",
    "    toplam += basamak**uzunluk\n",
    "if toplam == sayi:\n",
    "    print(\"Sayı Armstrong sayıdır\")\n",
    "else:\n",
    "    print(\"ayı Armstrong değildir\")\n",
    "\n"
   ]
  },
  {
   "cell_type": "code",
   "execution_count": null,
   "metadata": {},
   "outputs": [],
   "source": []
  },
  {
   "cell_type": "code",
   "execution_count": null,
   "metadata": {},
   "outputs": [],
   "source": []
  }
 ],
 "metadata": {
  "kernelspec": {
   "display_name": "Python 3",
   "language": "python",
   "name": "python3"
  },
  "language_info": {
   "codemirror_mode": {
    "name": "ipython",
    "version": 3
   },
   "file_extension": ".py",
   "mimetype": "text/x-python",
   "name": "python",
   "nbconvert_exporter": "python",
   "pygments_lexer": "ipython3",
   "version": "3.13.2"
  }
 },
 "nbformat": 4,
 "nbformat_minor": 2
}
